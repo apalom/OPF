{
 "cells": [
  {
   "cell_type": "code",
   "execution_count": 70,
   "metadata": {
    "collapsed": true,
    "pycharm": {
     "is_executing": false
    }
   },
   "outputs": [],
   "source": [
    "import logging\n",
    "logger = logging.getLogger(__name__)\n",
    "logger.setLevel(logging.DEBUG)\n",
    "import pandas as pd\n",
    "import pandapower as pp\n",
    "import re\n",
    "import numpy as np\n",
    "\n",
    "root_dir = \"C:/Users/Damian/OneDrive/Share/Penn/Research/OPF/\"\n",
    "data_dir = root_dir + \"data/denmark/\"\n",
    "    "
   ]
  },
  {
   "cell_type": "code",
   "execution_count": 71,
   "metadata": {
    "collapsed": false,
    "pycharm": {
     "name": "#%%\n",
     "is_executing": false
    }
   },
   "outputs": [],
   "source": [
    "def fix_decimals(value):\n",
    "    # replace things like 10,00 with 10.00 - European to US decimals\n",
    "    if isinstance(value, str) and re.search(\"[0-9]+,[0-9]+\", value):\n",
    "        return float(value.replace(',', '.'))\n",
    "    return value\n",
    "\n",
    "bus_data = pd.read_excel(data_dir + \"raw.xlsx\", skiprows=range(0, 3), sheet_name='Bus').sort_values('Bus Index').applymap(\n",
    "    fix_decimals)\n",
    "line_data = pd.read_excel(data_dir + \"raw.xlsx\", skiprows=range(0, 3), sheet_name='Line').applymap(fix_decimals)\n",
    "trafo2_data = pd.read_excel(data_dir + \"raw.xlsx\", skiprows=range(0, 3), sheet_name='Transformer2').applymap(fix_decimals)\n",
    "trafo3_data = pd.read_excel(data_dir + \"raw.xlsx\", skiprows=range(0, 3), sheet_name='Transformer3').applymap(fix_decimals)\n",
    "generator_data = pd.read_excel(data_dir + \"raw.xlsx\", skiprows=range(0, 3), sheet_name='Generator').applymap(fix_decimals)\n",
    "load_data = pd.read_excel(data_dir + \"raw.xlsx\", skiprows=range(0, 3), sheet_name='Load').applymap(fix_decimals)\n",
    "shunt_data = pd.read_excel(data_dir + \"raw.xlsx\", skiprows=range(0, 3), sheet_name='Shunt').applymap(fix_decimals)\n",
    "hvdc_data = pd.read_excel(data_dir + \"raw.xlsx\", skiprows=range(0, 3), sheet_name='HVDC').applymap(fix_decimals)\n"
   ]
  },
  {
   "cell_type": "code",
   "execution_count": 97,
   "metadata": {
    "pycharm": {
     "is_executing": false,
     "name": "#%%\n"
    }
   },
   "outputs": [],
   "source": [
    "net = pp.create_empty_network(\"Denmark\")\n",
    "net.sn_mva = 1.0\n",
    "\n",
    "for _, row in bus_data.iterrows():\n",
    "    row: pd.Series = row\n",
    "    voltage = row['Voltage base[kV]']\n",
    "    pp.create_bus(net, vn_kv=voltage, name=row['Bus Name'], index=row['Bus Index'], \n",
    "                  max_vm_pu=row[\"Voltage max[pu]\"], min_vm_pu=row[\"Voltage min[pu]\"])\n",
    "\n",
    "for _, row in line_data.iterrows():\n",
    "    row: pd.Series = row\n",
    "\n",
    "    type = row['Line type']\n",
    "    L: float = row['Length[km]']\n",
    "    R: float = max(1, row['R1[Ohm]']) # TODO: remove\n",
    "    X: float = row['X1[Ohm]']\n",
    "    G: float = row['G1[uS]']\n",
    "    B: float = row['B1[uS]']\n",
    "    limit_current = row['Nominal Current[kA]'] * 10  # TODO: Verify\n",
    "    C = 10  # TODO: verify\n",
    "    if type == \"Null Line\" or (R < 0.01 or X < 0.01):\n",
    "        pp.create_switch(net, row['Node 1'], row['Node 2'], 'b', True, z_ohm=R)\n",
    "    elif type == \"Overhead Line\" or type == \"Cable\":\n",
    "        pp.create_line_from_parameters(net, row['Node 1'], row['Node 2'], L, R/L, X/L, C, limit_current, \n",
    "                                       g_us_per_km=G/L, max_loading_percent=100)\n",
    "    \n",
    "    elif type == \"Equivalent Impedance\":\n",
    "        v_base: float = row['Nominal Voltage[kV]']\n",
    "        i_base: float = row['Nominal Current[kA]']\n",
    "        base_z: float = v_base / i_base\n",
    "        sn_mva: float = np.sqrt(3) * v_base * i_base\n",
    "        pp.create_impedance(net, row['Node 1'], row['Node 2'], R/base_z, X/base_z, sn_mva, \n",
    "                            R/base_z, X/base_z, in_service=True)\n",
    "    else:\n",
    "        raise RuntimeError(\"{} is an unknown line type\".format(type))\n",
    "        \n",
    "# Based on https://www.fs.fed.us/database/acad/elec/greenbook/10_shortcalc.pdf\n",
    "# X/R is ~3.5 therefore %R is %Z/(1+3.5)\n",
    "Z_XR_factor = 1/(1+3.5)\n",
    "for _, row in trafo2_data.iterrows():\n",
    "    row: pd.Series = row\n",
    "    # Assuming core losses are approximately equal to no load loss\n",
    "    # Assuming short circuit voltage is purely real\n",
    "    # Assuming max loading percent is 100\n",
    "    pp.create_transformer_from_parameters(net, row['High.V Bus Index'], row['Low.V Bus Index'], row['Sn[MVA]'],\n",
    "                                          row['Un.H[kV]'], row['Un.L[kV]'], row['uk[%]']*Z_XR_factor, row['uk[%]'], \n",
    "                                          row['No Load Losses[kW]'], row['No Load Current[%]'], in_service=True,\n",
    "                                          tap_min=row['Min.Tap'], tap_max=row['Max.Tap'], tap_neutral=row['Neu.Tap'],\n",
    "                                          shift_degree=row['dUphase[deg]'], tap_step_percent=row['dU.Tap[%]'],\n",
    "                                          tap_side=\"hv\", tap_pos=row['Act.Tap'], max_loading_percent=100,\n",
    "                                          name=row['2-Transformer Name'])\n",
    "\n",
    "for _, row in trafo3_data.iterrows():\n",
    "    row: pd.Series = row\n",
    "    # Same assumptions as trafo2, AND\n",
    "    # Assuming phase shift is the same for LV and MV\n",
    "    control_bus = row['Control Bus Index']\n",
    "    hBusIndex = row['High.V Bus Index']\n",
    "    mBusIndex = row['Mid.V Bus Index']\n",
    "    lBusIndex = row['Low.V Bus Index']\n",
    "    tap_side = row['Tap Side'].lower()\n",
    "    shift_degree = row['dUphase.Tap[deg]']\n",
    "\n",
    "    # Same as trafo2\n",
    "    pp.create_transformer3w_from_parameters(net, hBusIndex, mBusIndex, lBusIndex,\n",
    "                                            row['Un.H[kV]'], row['Un.M[kV]'], row['Un.L[kV]'],\n",
    "                                            row['Sn[MVA]'], row['Sn[MVA]'], row['Sn[MVA]'],\n",
    "                                            row['uk.HV_MV[%]'], row['uk.MV_LV[%]'], row['uk.LV_HV[%]'],\n",
    "                                            row['uk.HV_MV[%]']*Z_XR_factor,\n",
    "                                            row['uk.MV_LV[%]']*Z_XR_factor, \n",
    "                                            row['uk.LV_HV[%]']*Z_XR_factor,\n",
    "                                            row['No Load Losses[kW]'], row['No Load Current[%]'], tap_side=tap_side,\n",
    "                                            tap_min=row['Min.Tap'], tap_max=row['Max.Tap'], tap_neutral=row['Neu.Tap'],\n",
    "                                            tap_step_percent=row['dU.Tap[%]'], tap_pos=row['Act.Tap'],\n",
    "                                            in_service=True, shift_lv_degree=shift_degree, shift_mv_degree=shift_degree,\n",
    "                                            name=row['3_Transformer Name'], max_loading_percent=100)\n",
    "\n",
    "for _, row in generator_data.iterrows():\n",
    "    row: pd.Series = row\n",
    "\n",
    "    control_type = row['Control Type']\n",
    "    slack: bool = control_type == \"SL\"  # this is a slack generator\n",
    "    p_mw = row['Act.P[MW]']\n",
    "    q_mvar = row['Act.Q[Mvar]']\n",
    "    if control_type == \"PQ\":\n",
    "        id = pp.create_sgen(net, row['Bus Index'], p_mw, q_mvar,\n",
    "                       row['Nominal Apparent Power[MVA]'], row['Generator Name'],\n",
    "                       max_p_mw=row['Pmax[MW]']*10, min_p_mw=row[\"Pmin[MW]\"],\n",
    "                       max_q_mvar=row['Qmax[Mvar]']*10, min_q_mvar=row['Qmin[Mvar]'],\n",
    "                       controllable=True)\n",
    "    elif control_type == \"PV\" or slack:\n",
    "\n",
    "        # Approximating these plants which compensate for voltage variance of renewable plants by\n",
    "        # placing them on the Control bus\n",
    "        id = pp.create_gen(net, row['Bus Index'], p_mw, row['Uref[pu]'],\n",
    "                      row['Nominal Apparent Power[MVA]'], row['Generator Name'],\n",
    "                      max_p_mw=row['Pmax[MW]'], min_p_mw=row['Pmin[MW]']*0,\n",
    "                      max_q_mvar=row['Qmax[Mvar]']*10, min_q_mvar=row['Qmin[Mvar]'],\n",
    "                      controllable=True, slack=slack)\n",
    "    else:\n",
    "        raise Exception(\"{} control type is not defined.\".format(control_type))\n",
    "\n",
    "for _, row in load_data.iterrows():\n",
    "    row: pd.Series = row\n",
    "\n",
    "    p_mw: float = row['Act.P[MW]']\n",
    "    q_mvar: float = row['Act.Q[Mvar]']\n",
    "    # ZIP model data: https://www.diva-portal.org/smash/get/diva2:1085518/FULLTEXT01.pdf page 61 (83 on pdf)\n",
    "    # [Z I P]\n",
    "    p: np.ndarray = np.array([0.38, 0.41, 0.21])\n",
    "    q: np.ndarray = np.array([1, 0, 0])\n",
    "    aggregate: np.ndarray = (p * p_mw + q * q_mvar)\n",
    "\n",
    "    if np.sum(aggregate) == 0:\n",
    "        aggregate = np.array([100, 0, 0])\n",
    "    else:\n",
    "        aggregate = 100 * aggregate / np.sum(aggregate)  # values should be in [0,100]\n",
    "    aggregate = aggregate.astype(int)\n",
    "        \n",
    "    if not (row['Area Name'] == 'ENDKW' or row['Area Name'] == 'ENDKE'):\n",
    "        id = pp.create_ext_grid(net, row['Load Index'], name=row['Load Name'],\n",
    "                                max_p_mw=700, min_p_mw=-700, max_q_mvar=700, min_q_mvar=-700)\n",
    "    else:\n",
    "        assert p_mw >= 0\n",
    "        pp.create_load(net, row['Load Index'], p_mw, q_mvar, aggregate[0], aggregate[1], controllable=False)\n",
    "\n",
    "for _, row in shunt_data.iterrows():\n",
    "    row: pd.Series = row\n",
    "    switchable = row['Switchable']\n",
    "    step = row['Act.Step']\n",
    "    pp.create_shunt(net, row['Bus Index'], row['L[Mvar]'] + row['C[Mvar]'], vn_kv=row['Nominal Voltage[kV]'],\n",
    "                    step=step, max_step=row['Max.Step'], name=row['Shunt Name'])\n",
    "\n",
    "for _, row in hvdc_data.iterrows():\n",
    "    row: pd.Series = row\n",
    "    \n",
    "    min_p_mw = 0 if row['Pmax[MW]'] > 0 else row['Pmax[MW]']\n",
    "    max_p_mw = row['Pmax[MW]'] if row['Pmax[MW]'] > 0 else 0\n",
    "    assert max_p_mw > min_p_mw\n",
    "    \n",
    "    min_q_mvar = 0 if row['Q[Mvar]'] > 0 else row['Q[Mvar]']\n",
    "    max_q_mvar = row['Q[Mvar]'] if row['Q[Mvar]'] > 0 else 0\n",
    "    assert max_q_mvar > min_q_mvar\n",
    "\n",
    "    pp.create_ext_grid(net, row['Bus Index'], name=row['HVDC Name'], \n",
    "                       min_p_mw=min_p_mw, max_p_mw=max_p_mw, min_q_mvar=min_q_mvar, max_q_mvar=max_q_mvar)"
   ]
  },
  {
   "cell_type": "code",
   "execution_count": 98,
   "metadata": {
    "pycharm": {
     "is_executing": false,
     "name": "#%%\n"
    }
   },
   "outputs": [],
   "source": [
    "import networkx as nx\n",
    "from pandapower import topology, converter\n",
    "from pandapower.plotting import simple_plot, to_html\n",
    "from pandapower.plotting.plotly import simple_plotly, vlevel_plotly\n",
    "from matplotlib import pyplot as plt\n",
    "\n",
    "def add_cost(net):\n",
    "    for id, row in net['sgen'].iterrows():\n",
    "        pp.create_poly_cost(net, id, 'sgen', cp1_eur_per_mw=1)\n",
    "    for id, row in net['gen'].iterrows():\n",
    "        pp.create_poly_cost(net, id, 'gen', cp1_eur_per_mw=1)\n",
    "    for id, row in net['ext_grid'].iterrows():\n",
    "        pp.create_poly_cost(net, id, 'ext_grid', cp1_eur_per_mw=1)\n",
    "\n",
    "nx_graph = pp.topology.create_nxgraph(net)\n",
    "CCs = sorted(list(nx.connected_components(nx_graph)), key=len, reverse=True)\n",
    "\n",
    "net_train = pp.select_subnet(net, list(CCs[0]))\n",
    "net_test = pp.select_subnet(net, list(CCs[1]))\n",
    "add_cost(net_train)\n",
    "add_cost(net_test)\n",
    "\n",
    "pp.to_json(net_train, data_dir + \"train.json\")\n",
    "pp.to_json(net_test, data_dir + \"test.json\")\n",
    "pp.plotting.to_html(net_train, data_dir + \"train.html\")\n",
    "pp.plotting.to_html(net_test, data_dir + \"test.html\")"
   ]
  },
  {
   "cell_type": "code",
   "execution_count": 99,
   "metadata": {
    "collapsed": false,
    "pycharm": {
     "name": "#%% Import data from file\n",
     "is_executing": false
    }
   },
   "outputs": [],
   "source": [
    "if net_train is None:\n",
    "    net_train = pp.from_json(data_dir + \"train.json\")\n",
    "    net_test = pp.from_json(data_dir + \"test.json\")"
   ]
  },
  {
   "cell_type": "code",
   "execution_count": 100,
   "metadata": {
    "collapsed": false,
    "pycharm": {
     "name": "#%%\n",
     "is_executing": false
    }
   },
   "outputs": [
    {
     "name": "stdout",
     "output_type": "stream",
     "text": [
      "Type gen\nType sgen\n"
     ]
    }
   ],
   "source": [
    "pp.runpp(net_train, max_iteration=10)\n",
    "pp.plotting.to_html(net_train, data_dir + \"train.html\")\n",
    "#pp.converter.to_mpc(net_train, data_dir + \"train.mat\", mode=\"opf\")\n",
    "#pp.runopp(net_train, calculate_voltage_angles=False, verbose=True)\n",
    "#pp.lf_info(net_train)\n",
    "\n",
    "def check_constraints(net):\n",
    "    gen_types = ['gen', 'sgen']\n",
    "    for type in gen_types:\n",
    "        print(\"Type %s\" % type)\n",
    "        for (id, gen), (_, res) in zip(net_train[type].iterrows(), net_train['res_%s'%type].iterrows()):\n",
    "            p_mw = res['p_mw']\n",
    "            q_mvar = res['q_mvar']\n",
    "            if not gen['min_p_mw'] <= p_mw <= gen['max_p_mw']:\n",
    "                print(\"At %d, voilated P[MW] %d <= %d <= %d\" % (id, gen['min_p_mw'], p_mw, gen['max_p_mw']))\n",
    "            if not gen['min_q_mvar'] <= q_mvar <= gen['max_q_mvar']:\n",
    "                print(\"At %d, voilated Q[Mvar] %d <= %d <= %d\" % (id, gen['min_q_mvar'], q_mvar, gen['max_q_mvar']))\n",
    "            \n",
    "check_constraints(net_train)"
   ]
  },
  {
   "cell_type": "code",
   "execution_count": 110,
   "metadata": {
    "collapsed": false,
    "pycharm": {
     "name": "#%%\n",
     "is_executing": false
    }
   },
   "outputs": [
    {
     "name": "stdout",
     "output_type": "stream",
     "text": [
      "This pandapower network includes the following parameter tables:\n   - bus (189 elements)\n   - load (51 elements)\n   - gen (34 elements)\n   - shunt (4 elements)\n   - ext_grid (1 element)\n   - line (91 elements)\n   - trafo (115 elements)\n   - poly_cost (35 elements)\n   - bus_geodata (189 elements)\n and the following results tables:\n   - res_bus (189 elements)\n   - res_line (91 elements)\n   - res_trafo (115 elements)\n   - res_ext_grid (1 element)\n   - res_load (51 elements)\n   - res_shunt (4 elements)\n   - res_gen (34 elements)\n"
     ]
    }
   ],
   "source": [
    "from julia.PowerModels import run_ac_opf\n",
    "pp.runpm_ac_opf(net_train)\n",
    "pp.plotting.to_html(net_train, data_dir + \"iceland_train_opf.html\")"
   ]
  },
  {
   "cell_type": "code",
   "execution_count": 111,
   "metadata": {
    "collapsed": false,
    "pycharm": {
     "name": "#%%\n",
     "is_executing": false
    }
   },
   "outputs": [
    {
     "name": "stdout",
     "output_type": "stream",
     "text": [
      "This pandapower network includes the following parameter tables:\n   - bus (189 elements)\n   - load (51 elements)\n   - gen (34 elements)\n   - shunt (4 elements)\n   - ext_grid (1 element)\n   - line (91 elements)\n   - trafo (115 elements)\n   - poly_cost (35 elements)\n   - bus_geodata (189 elements)\n and the following results tables:\n   - res_bus (189 elements)\n   - res_line (91 elements)\n   - res_trafo (115 elements)\n   - res_ext_grid (1 element)\n   - res_load (51 elements)\n   - res_shunt (4 elements)\n   - res_gen (34 elements)\n"
     ]
    }
   ],
   "source": [
    "print(net)"
   ]
  },
  {
   "cell_type": "code",
   "execution_count": 8,
   "metadata": {
    "collapsed": false,
    "pycharm": {
     "name": "#%%\n",
     "is_executing": false
    }
   },
   "outputs": [
    {
     "name": "stderr",
     "output_type": "stream",
     "text": [
      "\n\n_____________ PANDAPOWER DIAGNOSTIC TOOL _____________ \n\n",
      "_____________ END OF PANDAPOWER DIAGNOSTIC _____________ \n"
     ]
    }
   ],
   "source": [
    "pp.diagnostic(net_train, 'detailed', warnings_only=True, return_result_dict=False)"
   ]
  },
  {
   "cell_type": "code",
   "execution_count": 9,
   "metadata": {
    "pycharm": {
     "name": "#%%\n",
     "is_executing": false
    }
   },
   "outputs": [
    {
     "name": "stderr",
     "output_type": "stream",
     "text": [
      "No or insufficient geodata available --> Creating artificial coordinates. This may take some time\n"
     ]
    },
    {
     "ename": "TypeError",
     "evalue": "can't pickle PyCall.jlwrap objects",
     "traceback": [
      "\u001b[1;31m---------------------------------------------------------------------------\u001b[0m",
      "\u001b[1;31mTypeError\u001b[0m                                 Traceback (most recent call last)",
      "\u001b[1;32m<ipython-input-9-c833c5fa445c>\u001b[0m in \u001b[0;36m<module>\u001b[1;34m\u001b[0m\n\u001b[1;32m----> 1\u001b[1;33m \u001b[0msimple_plot\u001b[0m\u001b[1;33m(\u001b[0m\u001b[0mnet_train\u001b[0m\u001b[1;33m)\u001b[0m\u001b[1;33m\u001b[0m\u001b[1;33m\u001b[0m\u001b[0m\n\u001b[0m\u001b[0;32m      2\u001b[0m \u001b[0mplt\u001b[0m\u001b[1;33m.\u001b[0m\u001b[0msavefig\u001b[0m\u001b[1;33m(\u001b[0m\u001b[0mdata_dir\u001b[0m \u001b[1;33m+\u001b[0m \u001b[1;34m\"denmark_train.png\"\u001b[0m\u001b[1;33m)\u001b[0m\u001b[1;33m\u001b[0m\u001b[1;33m\u001b[0m\u001b[0m\n\u001b[0;32m      3\u001b[0m \u001b[0msimple_plot\u001b[0m\u001b[1;33m(\u001b[0m\u001b[0mnet_test\u001b[0m\u001b[1;33m)\u001b[0m\u001b[1;33m\u001b[0m\u001b[1;33m\u001b[0m\u001b[0m\n\u001b[0;32m      4\u001b[0m \u001b[0mplt\u001b[0m\u001b[1;33m.\u001b[0m\u001b[0msavefig\u001b[0m\u001b[1;33m(\u001b[0m\u001b[0mdata_dir\u001b[0m \u001b[1;33m+\u001b[0m \u001b[1;34m\"denmark_test.png\"\u001b[0m\u001b[1;33m)\u001b[0m\u001b[1;33m\u001b[0m\u001b[1;33m\u001b[0m\u001b[0m\n",
      "\u001b[1;32mc:\\users\\damian\\.virtualenvs\\opf\\lib\\site-packages\\pandapower\\plotting\\simple_plot.py\u001b[0m in \u001b[0;36msimple_plot\u001b[1;34m(net, respect_switches, line_width, bus_size, ext_grid_size, trafo_size, plot_loads, plot_sgens, load_size, sgen_size, switch_size, switch_distance, plot_line_switches, scale_size, bus_color, line_color, trafo_color, ext_grid_color, switch_color, library, show_plot, ax)\u001b[0m\n\u001b[0;32m    101\u001b[0m         logger.warning(\"No or insufficient geodata available --> Creating artificial coordinates.\" +\n\u001b[0;32m    102\u001b[0m                        \" This may take some time\")\n\u001b[1;32m--> 103\u001b[1;33m         \u001b[0mcreate_generic_coordinates\u001b[0m\u001b[1;33m(\u001b[0m\u001b[0mnet\u001b[0m\u001b[1;33m,\u001b[0m \u001b[0mrespect_switches\u001b[0m\u001b[1;33m=\u001b[0m\u001b[0mrespect_switches\u001b[0m\u001b[1;33m,\u001b[0m \u001b[0mlibrary\u001b[0m\u001b[1;33m=\u001b[0m\u001b[0mlibrary\u001b[0m\u001b[1;33m)\u001b[0m\u001b[1;33m\u001b[0m\u001b[1;33m\u001b[0m\u001b[0m\n\u001b[0m\u001b[0;32m    104\u001b[0m \u001b[1;33m\u001b[0m\u001b[0m\n\u001b[0;32m    105\u001b[0m     \u001b[1;32mif\u001b[0m \u001b[0mscale_size\u001b[0m\u001b[1;33m:\u001b[0m\u001b[1;33m\u001b[0m\u001b[1;33m\u001b[0m\u001b[0m\n",
      "\u001b[1;32mc:\\users\\damian\\.virtualenvs\\opf\\lib\\site-packages\\pandapower\\plotting\\generic_geodata.py\u001b[0m in \u001b[0;36mcreate_generic_coordinates\u001b[1;34m(net, mg, library, respect_switches)\u001b[0m\n\u001b[0;32m     97\u001b[0m         \u001b[0mnet\u001b[0m\u001b[1;33m.\u001b[0m\u001b[0mbus_geodata\u001b[0m \u001b[1;33m=\u001b[0m \u001b[0mpd\u001b[0m\u001b[1;33m.\u001b[0m\u001b[0mDataFrame\u001b[0m\u001b[1;33m(\u001b[0m\u001b[0mcolumns\u001b[0m\u001b[1;33m=\u001b[0m\u001b[1;33m[\u001b[0m\u001b[1;34m\"x\"\u001b[0m\u001b[1;33m,\u001b[0m \u001b[1;34m\"y\"\u001b[0m\u001b[1;33m]\u001b[0m\u001b[1;33m)\u001b[0m\u001b[1;33m\u001b[0m\u001b[1;33m\u001b[0m\u001b[0m\n\u001b[0;32m     98\u001b[0m \u001b[1;33m\u001b[0m\u001b[0m\n\u001b[1;32m---> 99\u001b[1;33m     \u001b[0mgnet\u001b[0m \u001b[1;33m=\u001b[0m \u001b[0mcopy\u001b[0m\u001b[1;33m.\u001b[0m\u001b[0mdeepcopy\u001b[0m\u001b[1;33m(\u001b[0m\u001b[0mnet\u001b[0m\u001b[1;33m)\u001b[0m\u001b[1;33m\u001b[0m\u001b[1;33m\u001b[0m\u001b[0m\n\u001b[0m\u001b[0;32m    100\u001b[0m     \u001b[0mgnet\u001b[0m\u001b[1;33m.\u001b[0m\u001b[0mbus\u001b[0m \u001b[1;33m=\u001b[0m \u001b[0mgnet\u001b[0m\u001b[1;33m.\u001b[0m\u001b[0mbus\u001b[0m\u001b[1;33m[\u001b[0m\u001b[0mgnet\u001b[0m\u001b[1;33m.\u001b[0m\u001b[0mbus\u001b[0m\u001b[1;33m.\u001b[0m\u001b[0min_service\u001b[0m \u001b[1;33m==\u001b[0m \u001b[1;32mTrue\u001b[0m\u001b[1;33m]\u001b[0m\u001b[1;33m\u001b[0m\u001b[1;33m\u001b[0m\u001b[0m\n\u001b[0;32m    101\u001b[0m     \u001b[1;32mif\u001b[0m \u001b[0mlibrary\u001b[0m \u001b[1;33m==\u001b[0m \u001b[1;34m\"igraph\"\u001b[0m\u001b[1;33m:\u001b[0m\u001b[1;33m\u001b[0m\u001b[1;33m\u001b[0m\u001b[0m\n",
      "\u001b[1;32m~\\AppData\\Local\\Programs\\Python\\Python37\\lib\\copy.py\u001b[0m in \u001b[0;36mdeepcopy\u001b[1;34m(x, memo, _nil)\u001b[0m\n\u001b[0;32m    178\u001b[0m                     \u001b[0my\u001b[0m \u001b[1;33m=\u001b[0m \u001b[0mx\u001b[0m\u001b[1;33m\u001b[0m\u001b[1;33m\u001b[0m\u001b[0m\n\u001b[0;32m    179\u001b[0m                 \u001b[1;32melse\u001b[0m\u001b[1;33m:\u001b[0m\u001b[1;33m\u001b[0m\u001b[1;33m\u001b[0m\u001b[0m\n\u001b[1;32m--> 180\u001b[1;33m                     \u001b[0my\u001b[0m \u001b[1;33m=\u001b[0m \u001b[0m_reconstruct\u001b[0m\u001b[1;33m(\u001b[0m\u001b[0mx\u001b[0m\u001b[1;33m,\u001b[0m \u001b[0mmemo\u001b[0m\u001b[1;33m,\u001b[0m \u001b[1;33m*\u001b[0m\u001b[0mrv\u001b[0m\u001b[1;33m)\u001b[0m\u001b[1;33m\u001b[0m\u001b[1;33m\u001b[0m\u001b[0m\n\u001b[0m\u001b[0;32m    181\u001b[0m \u001b[1;33m\u001b[0m\u001b[0m\n\u001b[0;32m    182\u001b[0m     \u001b[1;31m# If is its own copy, don't memoize.\u001b[0m\u001b[1;33m\u001b[0m\u001b[1;33m\u001b[0m\u001b[1;33m\u001b[0m\u001b[0m\n",
      "\u001b[1;32m~\\AppData\\Local\\Programs\\Python\\Python37\\lib\\copy.py\u001b[0m in \u001b[0;36m_reconstruct\u001b[1;34m(x, memo, func, args, state, listiter, dictiter, deepcopy)\u001b[0m\n\u001b[0;32m    278\u001b[0m     \u001b[1;32mif\u001b[0m \u001b[0mstate\u001b[0m \u001b[1;32mis\u001b[0m \u001b[1;32mnot\u001b[0m \u001b[1;32mNone\u001b[0m\u001b[1;33m:\u001b[0m\u001b[1;33m\u001b[0m\u001b[1;33m\u001b[0m\u001b[0m\n\u001b[0;32m    279\u001b[0m         \u001b[1;32mif\u001b[0m \u001b[0mdeep\u001b[0m\u001b[1;33m:\u001b[0m\u001b[1;33m\u001b[0m\u001b[1;33m\u001b[0m\u001b[0m\n\u001b[1;32m--> 280\u001b[1;33m             \u001b[0mstate\u001b[0m \u001b[1;33m=\u001b[0m \u001b[0mdeepcopy\u001b[0m\u001b[1;33m(\u001b[0m\u001b[0mstate\u001b[0m\u001b[1;33m,\u001b[0m \u001b[0mmemo\u001b[0m\u001b[1;33m)\u001b[0m\u001b[1;33m\u001b[0m\u001b[1;33m\u001b[0m\u001b[0m\n\u001b[0m\u001b[0;32m    281\u001b[0m         \u001b[1;32mif\u001b[0m \u001b[0mhasattr\u001b[0m\u001b[1;33m(\u001b[0m\u001b[0my\u001b[0m\u001b[1;33m,\u001b[0m \u001b[1;34m'__setstate__'\u001b[0m\u001b[1;33m)\u001b[0m\u001b[1;33m:\u001b[0m\u001b[1;33m\u001b[0m\u001b[1;33m\u001b[0m\u001b[0m\n\u001b[0;32m    282\u001b[0m             \u001b[0my\u001b[0m\u001b[1;33m.\u001b[0m\u001b[0m__setstate__\u001b[0m\u001b[1;33m(\u001b[0m\u001b[0mstate\u001b[0m\u001b[1;33m)\u001b[0m\u001b[1;33m\u001b[0m\u001b[1;33m\u001b[0m\u001b[0m\n",
      "\u001b[1;32m~\\AppData\\Local\\Programs\\Python\\Python37\\lib\\copy.py\u001b[0m in \u001b[0;36mdeepcopy\u001b[1;34m(x, memo, _nil)\u001b[0m\n\u001b[0;32m    148\u001b[0m     \u001b[0mcopier\u001b[0m \u001b[1;33m=\u001b[0m \u001b[0m_deepcopy_dispatch\u001b[0m\u001b[1;33m.\u001b[0m\u001b[0mget\u001b[0m\u001b[1;33m(\u001b[0m\u001b[0mcls\u001b[0m\u001b[1;33m)\u001b[0m\u001b[1;33m\u001b[0m\u001b[1;33m\u001b[0m\u001b[0m\n\u001b[0;32m    149\u001b[0m     \u001b[1;32mif\u001b[0m \u001b[0mcopier\u001b[0m\u001b[1;33m:\u001b[0m\u001b[1;33m\u001b[0m\u001b[1;33m\u001b[0m\u001b[0m\n\u001b[1;32m--> 150\u001b[1;33m         \u001b[0my\u001b[0m \u001b[1;33m=\u001b[0m \u001b[0mcopier\u001b[0m\u001b[1;33m(\u001b[0m\u001b[0mx\u001b[0m\u001b[1;33m,\u001b[0m \u001b[0mmemo\u001b[0m\u001b[1;33m)\u001b[0m\u001b[1;33m\u001b[0m\u001b[1;33m\u001b[0m\u001b[0m\n\u001b[0m\u001b[0;32m    151\u001b[0m     \u001b[1;32melse\u001b[0m\u001b[1;33m:\u001b[0m\u001b[1;33m\u001b[0m\u001b[1;33m\u001b[0m\u001b[0m\n\u001b[0;32m    152\u001b[0m         \u001b[1;32mtry\u001b[0m\u001b[1;33m:\u001b[0m\u001b[1;33m\u001b[0m\u001b[1;33m\u001b[0m\u001b[0m\n",
      "\u001b[1;32m~\\AppData\\Local\\Programs\\Python\\Python37\\lib\\copy.py\u001b[0m in \u001b[0;36m_deepcopy_tuple\u001b[1;34m(x, memo, deepcopy)\u001b[0m\n\u001b[0;32m    218\u001b[0m \u001b[1;33m\u001b[0m\u001b[0m\n\u001b[0;32m    219\u001b[0m \u001b[1;32mdef\u001b[0m \u001b[0m_deepcopy_tuple\u001b[0m\u001b[1;33m(\u001b[0m\u001b[0mx\u001b[0m\u001b[1;33m,\u001b[0m \u001b[0mmemo\u001b[0m\u001b[1;33m,\u001b[0m \u001b[0mdeepcopy\u001b[0m\u001b[1;33m=\u001b[0m\u001b[0mdeepcopy\u001b[0m\u001b[1;33m)\u001b[0m\u001b[1;33m:\u001b[0m\u001b[1;33m\u001b[0m\u001b[1;33m\u001b[0m\u001b[0m\n\u001b[1;32m--> 220\u001b[1;33m     \u001b[0my\u001b[0m \u001b[1;33m=\u001b[0m \u001b[1;33m[\u001b[0m\u001b[0mdeepcopy\u001b[0m\u001b[1;33m(\u001b[0m\u001b[0ma\u001b[0m\u001b[1;33m,\u001b[0m \u001b[0mmemo\u001b[0m\u001b[1;33m)\u001b[0m \u001b[1;32mfor\u001b[0m \u001b[0ma\u001b[0m \u001b[1;32min\u001b[0m \u001b[0mx\u001b[0m\u001b[1;33m]\u001b[0m\u001b[1;33m\u001b[0m\u001b[1;33m\u001b[0m\u001b[0m\n\u001b[0m\u001b[0;32m    221\u001b[0m     \u001b[1;31m# We're not going to put the tuple in the memo, but it's still important we\u001b[0m\u001b[1;33m\u001b[0m\u001b[1;33m\u001b[0m\u001b[1;33m\u001b[0m\u001b[0m\n\u001b[0;32m    222\u001b[0m     \u001b[1;31m# check for it, in case the tuple contains recursive mutable structures.\u001b[0m\u001b[1;33m\u001b[0m\u001b[1;33m\u001b[0m\u001b[1;33m\u001b[0m\u001b[0m\n",
      "\u001b[1;32m~\\AppData\\Local\\Programs\\Python\\Python37\\lib\\copy.py\u001b[0m in \u001b[0;36m<listcomp>\u001b[1;34m(.0)\u001b[0m\n\u001b[0;32m    218\u001b[0m \u001b[1;33m\u001b[0m\u001b[0m\n\u001b[0;32m    219\u001b[0m \u001b[1;32mdef\u001b[0m \u001b[0m_deepcopy_tuple\u001b[0m\u001b[1;33m(\u001b[0m\u001b[0mx\u001b[0m\u001b[1;33m,\u001b[0m \u001b[0mmemo\u001b[0m\u001b[1;33m,\u001b[0m \u001b[0mdeepcopy\u001b[0m\u001b[1;33m=\u001b[0m\u001b[0mdeepcopy\u001b[0m\u001b[1;33m)\u001b[0m\u001b[1;33m:\u001b[0m\u001b[1;33m\u001b[0m\u001b[1;33m\u001b[0m\u001b[0m\n\u001b[1;32m--> 220\u001b[1;33m     \u001b[0my\u001b[0m \u001b[1;33m=\u001b[0m \u001b[1;33m[\u001b[0m\u001b[0mdeepcopy\u001b[0m\u001b[1;33m(\u001b[0m\u001b[0ma\u001b[0m\u001b[1;33m,\u001b[0m \u001b[0mmemo\u001b[0m\u001b[1;33m)\u001b[0m \u001b[1;32mfor\u001b[0m \u001b[0ma\u001b[0m \u001b[1;32min\u001b[0m \u001b[0mx\u001b[0m\u001b[1;33m]\u001b[0m\u001b[1;33m\u001b[0m\u001b[1;33m\u001b[0m\u001b[0m\n\u001b[0m\u001b[0;32m    221\u001b[0m     \u001b[1;31m# We're not going to put the tuple in the memo, but it's still important we\u001b[0m\u001b[1;33m\u001b[0m\u001b[1;33m\u001b[0m\u001b[1;33m\u001b[0m\u001b[0m\n\u001b[0;32m    222\u001b[0m     \u001b[1;31m# check for it, in case the tuple contains recursive mutable structures.\u001b[0m\u001b[1;33m\u001b[0m\u001b[1;33m\u001b[0m\u001b[1;33m\u001b[0m\u001b[0m\n",
      "\u001b[1;32m~\\AppData\\Local\\Programs\\Python\\Python37\\lib\\copy.py\u001b[0m in \u001b[0;36mdeepcopy\u001b[1;34m(x, memo, _nil)\u001b[0m\n\u001b[0;32m    148\u001b[0m     \u001b[0mcopier\u001b[0m \u001b[1;33m=\u001b[0m \u001b[0m_deepcopy_dispatch\u001b[0m\u001b[1;33m.\u001b[0m\u001b[0mget\u001b[0m\u001b[1;33m(\u001b[0m\u001b[0mcls\u001b[0m\u001b[1;33m)\u001b[0m\u001b[1;33m\u001b[0m\u001b[1;33m\u001b[0m\u001b[0m\n\u001b[0;32m    149\u001b[0m     \u001b[1;32mif\u001b[0m \u001b[0mcopier\u001b[0m\u001b[1;33m:\u001b[0m\u001b[1;33m\u001b[0m\u001b[1;33m\u001b[0m\u001b[0m\n\u001b[1;32m--> 150\u001b[1;33m         \u001b[0my\u001b[0m \u001b[1;33m=\u001b[0m \u001b[0mcopier\u001b[0m\u001b[1;33m(\u001b[0m\u001b[0mx\u001b[0m\u001b[1;33m,\u001b[0m \u001b[0mmemo\u001b[0m\u001b[1;33m)\u001b[0m\u001b[1;33m\u001b[0m\u001b[1;33m\u001b[0m\u001b[0m\n\u001b[0m\u001b[0;32m    151\u001b[0m     \u001b[1;32melse\u001b[0m\u001b[1;33m:\u001b[0m\u001b[1;33m\u001b[0m\u001b[1;33m\u001b[0m\u001b[0m\n\u001b[0;32m    152\u001b[0m         \u001b[1;32mtry\u001b[0m\u001b[1;33m:\u001b[0m\u001b[1;33m\u001b[0m\u001b[1;33m\u001b[0m\u001b[0m\n",
      "\u001b[1;32m~\\AppData\\Local\\Programs\\Python\\Python37\\lib\\copy.py\u001b[0m in \u001b[0;36m_deepcopy_dict\u001b[1;34m(x, memo, deepcopy)\u001b[0m\n\u001b[0;32m    238\u001b[0m     \u001b[0mmemo\u001b[0m\u001b[1;33m[\u001b[0m\u001b[0mid\u001b[0m\u001b[1;33m(\u001b[0m\u001b[0mx\u001b[0m\u001b[1;33m)\u001b[0m\u001b[1;33m]\u001b[0m \u001b[1;33m=\u001b[0m \u001b[0my\u001b[0m\u001b[1;33m\u001b[0m\u001b[1;33m\u001b[0m\u001b[0m\n\u001b[0;32m    239\u001b[0m     \u001b[1;32mfor\u001b[0m \u001b[0mkey\u001b[0m\u001b[1;33m,\u001b[0m \u001b[0mvalue\u001b[0m \u001b[1;32min\u001b[0m \u001b[0mx\u001b[0m\u001b[1;33m.\u001b[0m\u001b[0mitems\u001b[0m\u001b[1;33m(\u001b[0m\u001b[1;33m)\u001b[0m\u001b[1;33m:\u001b[0m\u001b[1;33m\u001b[0m\u001b[1;33m\u001b[0m\u001b[0m\n\u001b[1;32m--> 240\u001b[1;33m         \u001b[0my\u001b[0m\u001b[1;33m[\u001b[0m\u001b[0mdeepcopy\u001b[0m\u001b[1;33m(\u001b[0m\u001b[0mkey\u001b[0m\u001b[1;33m,\u001b[0m \u001b[0mmemo\u001b[0m\u001b[1;33m)\u001b[0m\u001b[1;33m]\u001b[0m \u001b[1;33m=\u001b[0m \u001b[0mdeepcopy\u001b[0m\u001b[1;33m(\u001b[0m\u001b[0mvalue\u001b[0m\u001b[1;33m,\u001b[0m \u001b[0mmemo\u001b[0m\u001b[1;33m)\u001b[0m\u001b[1;33m\u001b[0m\u001b[1;33m\u001b[0m\u001b[0m\n\u001b[0m\u001b[0;32m    241\u001b[0m     \u001b[1;32mreturn\u001b[0m \u001b[0my\u001b[0m\u001b[1;33m\u001b[0m\u001b[1;33m\u001b[0m\u001b[0m\n\u001b[0;32m    242\u001b[0m \u001b[0md\u001b[0m\u001b[1;33m[\u001b[0m\u001b[0mdict\u001b[0m\u001b[1;33m]\u001b[0m \u001b[1;33m=\u001b[0m \u001b[0m_deepcopy_dict\u001b[0m\u001b[1;33m\u001b[0m\u001b[1;33m\u001b[0m\u001b[0m\n",
      "\u001b[1;32m~\\AppData\\Local\\Programs\\Python\\Python37\\lib\\copy.py\u001b[0m in \u001b[0;36mdeepcopy\u001b[1;34m(x, memo, _nil)\u001b[0m\n\u001b[0;32m    148\u001b[0m     \u001b[0mcopier\u001b[0m \u001b[1;33m=\u001b[0m \u001b[0m_deepcopy_dispatch\u001b[0m\u001b[1;33m.\u001b[0m\u001b[0mget\u001b[0m\u001b[1;33m(\u001b[0m\u001b[0mcls\u001b[0m\u001b[1;33m)\u001b[0m\u001b[1;33m\u001b[0m\u001b[1;33m\u001b[0m\u001b[0m\n\u001b[0;32m    149\u001b[0m     \u001b[1;32mif\u001b[0m \u001b[0mcopier\u001b[0m\u001b[1;33m:\u001b[0m\u001b[1;33m\u001b[0m\u001b[1;33m\u001b[0m\u001b[0m\n\u001b[1;32m--> 150\u001b[1;33m         \u001b[0my\u001b[0m \u001b[1;33m=\u001b[0m \u001b[0mcopier\u001b[0m\u001b[1;33m(\u001b[0m\u001b[0mx\u001b[0m\u001b[1;33m,\u001b[0m \u001b[0mmemo\u001b[0m\u001b[1;33m)\u001b[0m\u001b[1;33m\u001b[0m\u001b[1;33m\u001b[0m\u001b[0m\n\u001b[0m\u001b[0;32m    151\u001b[0m     \u001b[1;32melse\u001b[0m\u001b[1;33m:\u001b[0m\u001b[1;33m\u001b[0m\u001b[1;33m\u001b[0m\u001b[0m\n\u001b[0;32m    152\u001b[0m         \u001b[1;32mtry\u001b[0m\u001b[1;33m:\u001b[0m\u001b[1;33m\u001b[0m\u001b[1;33m\u001b[0m\u001b[0m\n",
      "\u001b[1;32m~\\AppData\\Local\\Programs\\Python\\Python37\\lib\\copy.py\u001b[0m in \u001b[0;36m_deepcopy_dict\u001b[1;34m(x, memo, deepcopy)\u001b[0m\n\u001b[0;32m    238\u001b[0m     \u001b[0mmemo\u001b[0m\u001b[1;33m[\u001b[0m\u001b[0mid\u001b[0m\u001b[1;33m(\u001b[0m\u001b[0mx\u001b[0m\u001b[1;33m)\u001b[0m\u001b[1;33m]\u001b[0m \u001b[1;33m=\u001b[0m \u001b[0my\u001b[0m\u001b[1;33m\u001b[0m\u001b[1;33m\u001b[0m\u001b[0m\n\u001b[0;32m    239\u001b[0m     \u001b[1;32mfor\u001b[0m \u001b[0mkey\u001b[0m\u001b[1;33m,\u001b[0m \u001b[0mvalue\u001b[0m \u001b[1;32min\u001b[0m \u001b[0mx\u001b[0m\u001b[1;33m.\u001b[0m\u001b[0mitems\u001b[0m\u001b[1;33m(\u001b[0m\u001b[1;33m)\u001b[0m\u001b[1;33m:\u001b[0m\u001b[1;33m\u001b[0m\u001b[1;33m\u001b[0m\u001b[0m\n\u001b[1;32m--> 240\u001b[1;33m         \u001b[0my\u001b[0m\u001b[1;33m[\u001b[0m\u001b[0mdeepcopy\u001b[0m\u001b[1;33m(\u001b[0m\u001b[0mkey\u001b[0m\u001b[1;33m,\u001b[0m \u001b[0mmemo\u001b[0m\u001b[1;33m)\u001b[0m\u001b[1;33m]\u001b[0m \u001b[1;33m=\u001b[0m \u001b[0mdeepcopy\u001b[0m\u001b[1;33m(\u001b[0m\u001b[0mvalue\u001b[0m\u001b[1;33m,\u001b[0m \u001b[0mmemo\u001b[0m\u001b[1;33m)\u001b[0m\u001b[1;33m\u001b[0m\u001b[1;33m\u001b[0m\u001b[0m\n\u001b[0m\u001b[0;32m    241\u001b[0m     \u001b[1;32mreturn\u001b[0m \u001b[0my\u001b[0m\u001b[1;33m\u001b[0m\u001b[1;33m\u001b[0m\u001b[0m\n\u001b[0;32m    242\u001b[0m \u001b[0md\u001b[0m\u001b[1;33m[\u001b[0m\u001b[0mdict\u001b[0m\u001b[1;33m]\u001b[0m \u001b[1;33m=\u001b[0m \u001b[0m_deepcopy_dict\u001b[0m\u001b[1;33m\u001b[0m\u001b[1;33m\u001b[0m\u001b[0m\n",
      "\u001b[1;32m~\\AppData\\Local\\Programs\\Python\\Python37\\lib\\copy.py\u001b[0m in \u001b[0;36mdeepcopy\u001b[1;34m(x, memo, _nil)\u001b[0m\n\u001b[0;32m    167\u001b[0m                     \u001b[0mreductor\u001b[0m \u001b[1;33m=\u001b[0m \u001b[0mgetattr\u001b[0m\u001b[1;33m(\u001b[0m\u001b[0mx\u001b[0m\u001b[1;33m,\u001b[0m \u001b[1;34m\"__reduce_ex__\"\u001b[0m\u001b[1;33m,\u001b[0m \u001b[1;32mNone\u001b[0m\u001b[1;33m)\u001b[0m\u001b[1;33m\u001b[0m\u001b[1;33m\u001b[0m\u001b[0m\n\u001b[0;32m    168\u001b[0m                     \u001b[1;32mif\u001b[0m \u001b[0mreductor\u001b[0m\u001b[1;33m:\u001b[0m\u001b[1;33m\u001b[0m\u001b[1;33m\u001b[0m\u001b[0m\n\u001b[1;32m--> 169\u001b[1;33m                         \u001b[0mrv\u001b[0m \u001b[1;33m=\u001b[0m \u001b[0mreductor\u001b[0m\u001b[1;33m(\u001b[0m\u001b[1;36m4\u001b[0m\u001b[1;33m)\u001b[0m\u001b[1;33m\u001b[0m\u001b[1;33m\u001b[0m\u001b[0m\n\u001b[0m\u001b[0;32m    170\u001b[0m                     \u001b[1;32melse\u001b[0m\u001b[1;33m:\u001b[0m\u001b[1;33m\u001b[0m\u001b[1;33m\u001b[0m\u001b[0m\n\u001b[0;32m    171\u001b[0m                         \u001b[0mreductor\u001b[0m \u001b[1;33m=\u001b[0m \u001b[0mgetattr\u001b[0m\u001b[1;33m(\u001b[0m\u001b[0mx\u001b[0m\u001b[1;33m,\u001b[0m \u001b[1;34m\"__reduce__\"\u001b[0m\u001b[1;33m,\u001b[0m \u001b[1;32mNone\u001b[0m\u001b[1;33m)\u001b[0m\u001b[1;33m\u001b[0m\u001b[1;33m\u001b[0m\u001b[0m\n",
      "\u001b[1;31mTypeError\u001b[0m: can't pickle PyCall.jlwrap objects"
     ],
     "output_type": "error"
    }
   ],
   "source": [
    "simple_plot(net_train)\n",
    "plt.savefig(data_dir + \"train.png\")\n",
    "simple_plot(net_test)\n",
    "plt.savefig(data_dir + \"test.png\")"
   ]
  },
  {
   "cell_type": "code",
   "execution_count": 4,
   "outputs": [],
   "source": [
    "import pandapower as pp\n",
    "import pandapower.networks\n",
    "net = pp.networks.iceland()\n",
    "pp.runpp(net)"
   ],
   "metadata": {
    "collapsed": false,
    "pycharm": {
     "name": "#%%\n",
     "is_executing": false
    }
   }
  }
 ],
 "metadata": {
  "kernelspec": {
   "display_name": "Python 3",
   "language": "python",
   "name": "python3"
  },
  "language_info": {
   "codemirror_mode": {
    "name": "ipython",
    "version": 3
   },
   "file_extension": ".py",
   "mimetype": "text/x-python",
   "name": "python",
   "nbconvert_exporter": "python",
   "pygments_lexer": "ipython3",
   "version": "3.7.2"
  },
  "pycharm": {
   "stem_cell": {
    "cell_type": "raw",
    "source": [],
    "metadata": {
     "collapsed": false
    }
   }
  }
 },
 "nbformat": 4,
 "nbformat_minor": 1
}